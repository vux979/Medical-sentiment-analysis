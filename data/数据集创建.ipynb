{
 "cells": [
  {
   "cell_type": "markdown",
   "metadata": {
    "toc": true
   },
   "source": [
    "<h1>Table of Contents<span class=\"tocSkip\"></span></h1>\n",
    "<div class=\"toc\"><ul class=\"toc-item\"><li><span><a href=\"#数据集的下载及介绍\" data-toc-modified-id=\"数据集的下载及介绍-1\"><span class=\"toc-item-num\">1&nbsp;&nbsp;</span>数据集的下载及介绍</a></span></li><li><span><a href=\"#调用库\" data-toc-modified-id=\"调用库-2\"><span class=\"toc-item-num\">2&nbsp;&nbsp;</span>调用库</a></span></li><li><span><a href=\"#读取店铺\" data-toc-modified-id=\"读取店铺-3\"><span class=\"toc-item-num\">3&nbsp;&nbsp;</span>读取店铺</a></span><ul class=\"toc-item\"><li><span><a href=\"#抽取商店的id\" data-toc-modified-id=\"抽取商店的id-3.1\"><span class=\"toc-item-num\">3.1&nbsp;&nbsp;</span>抽取商店的id</a></span></li></ul></li><li><span><a href=\"#读取评论\" data-toc-modified-id=\"读取评论-4\"><span class=\"toc-item-num\">4&nbsp;&nbsp;</span>读取评论</a></span></li><li><span><a href=\"#提取正负样本\" data-toc-modified-id=\"提取正负样本-5\"><span class=\"toc-item-num\">5&nbsp;&nbsp;</span>提取正负样本</a></span><ul class=\"toc-item\"><li><span><a href=\"#保存数据\" data-toc-modified-id=\"保存数据-5.1\"><span class=\"toc-item-num\">5.1&nbsp;&nbsp;</span>保存数据</a></span></li></ul></li></ul></div>"
   ]
  },
  {
   "cell_type": "markdown",
   "metadata": {},
   "source": [
    "情感分析是文本分类的一个分支，是对带有情感色彩（褒义贬义/正向负向）的主观性文本进行分析，以确定该文本或者用户的观点、喜好、情感倾向。    \n",
    "医疗领域同样存在情感分析的应用场景。"
   ]
  },
  {
   "cell_type": "markdown",
   "metadata": {},
   "source": [
    "# 数据集的下载及介绍"
   ]
  },
  {
   "cell_type": "markdown",
   "metadata": {},
   "source": [
    "> **数据集下载**\n",
    ">> **本次实验**使用的是从***`kaggle`***上下载的数据    \n",
    "- [kaggle_yelp数据集下载](https://www.kaggle.com/yelp-dataset/yelp-dataset)    \n",
    "也可以到官网下载，数据有一定的不同    \n",
    "- [yelp官网](https://www.yelp.com/dataset)\n",
    "\n",
    "> 样例说明\n",
    ">> 非常建议看一下样例说明    \n",
    "- [yelp样例说明](https://www.yelp.com/dataset/documentation/main)"
   ]
  },
  {
   "cell_type": "markdown",
   "metadata": {},
   "source": [
    "# 调用库"
   ]
  },
  {
   "cell_type": "code",
   "execution_count": 1,
   "metadata": {
    "ExecuteTime": {
     "end_time": "2022-03-13T13:18:56.690653Z",
     "start_time": "2022-03-13T13:18:53.380138Z"
    }
   },
   "outputs": [],
   "source": [
    "import json\n",
    "import os\n",
    "from tqdm import tqdm\n",
    "import gc\n",
    "import re\n",
    "import pandas as pd"
   ]
  },
  {
   "cell_type": "markdown",
   "metadata": {},
   "source": [
    "# 读取店铺"
   ]
  },
  {
   "cell_type": "code",
   "execution_count": 2,
   "metadata": {
    "ExecuteTime": {
     "end_time": "2022-03-13T13:19:01.592126Z",
     "start_time": "2022-03-13T13:18:58.379604Z"
    }
   },
   "outputs": [
    {
     "name": "stderr",
     "output_type": "stream",
     "text": [
      "160585it [00:03, 52131.02it/s]\n"
     ]
    }
   ],
   "source": [
    "s = \"../../dataset/archive/yelp_academic_dataset_business.json\"\n",
    "\n",
    "data_business = []\n",
    "\n",
    "with open(s, 'r', encoding='UTF-8') as load_f:\n",
    "    for line in tqdm(load_f):\n",
    "        data_business.append(json.loads(line))"
   ]
  },
  {
   "cell_type": "code",
   "execution_count": 3,
   "metadata": {
    "ExecuteTime": {
     "end_time": "2022-03-13T13:19:03.022115Z",
     "start_time": "2022-03-13T13:19:03.012149Z"
    }
   },
   "outputs": [
    {
     "data": {
      "text/plain": [
       "160585"
      ]
     },
     "execution_count": 3,
     "metadata": {},
     "output_type": "execute_result"
    }
   ],
   "source": [
    "# 商店信息的数量\n",
    "len(data_business)"
   ]
  },
  {
   "cell_type": "code",
   "execution_count": 4,
   "metadata": {
    "ExecuteTime": {
     "end_time": "2022-03-13T13:19:03.769054Z",
     "start_time": "2022-03-13T13:19:03.763057Z"
    }
   },
   "outputs": [
    {
     "data": {
      "text/plain": [
       "{'business_id': '6iYb2HFDywm3zjuRg0shjw',\n",
       " 'name': 'Oskar Blues Taproom',\n",
       " 'address': '921 Pearl St',\n",
       " 'city': 'Boulder',\n",
       " 'state': 'CO',\n",
       " 'postal_code': '80302',\n",
       " 'latitude': 40.0175444,\n",
       " 'longitude': -105.2833481,\n",
       " 'stars': 4.0,\n",
       " 'review_count': 86,\n",
       " 'is_open': 1,\n",
       " 'attributes': {'RestaurantsTableService': 'True',\n",
       "  'WiFi': \"u'free'\",\n",
       "  'BikeParking': 'True',\n",
       "  'BusinessParking': \"{'garage': False, 'street': True, 'validated': False, 'lot': False, 'valet': False}\",\n",
       "  'BusinessAcceptsCreditCards': 'True',\n",
       "  'RestaurantsReservations': 'False',\n",
       "  'WheelchairAccessible': 'True',\n",
       "  'Caters': 'True',\n",
       "  'OutdoorSeating': 'True',\n",
       "  'RestaurantsGoodForGroups': 'True',\n",
       "  'HappyHour': 'True',\n",
       "  'BusinessAcceptsBitcoin': 'False',\n",
       "  'RestaurantsPriceRange2': '2',\n",
       "  'Ambience': \"{'touristy': False, 'hipster': False, 'romantic': False, 'divey': False, 'intimate': False, 'trendy': False, 'upscale': False, 'classy': False, 'casual': True}\",\n",
       "  'HasTV': 'True',\n",
       "  'Alcohol': \"'beer_and_wine'\",\n",
       "  'GoodForMeal': \"{'dessert': False, 'latenight': False, 'lunch': False, 'dinner': False, 'brunch': False, 'breakfast': False}\",\n",
       "  'DogsAllowed': 'False',\n",
       "  'RestaurantsTakeOut': 'True',\n",
       "  'NoiseLevel': \"u'average'\",\n",
       "  'RestaurantsAttire': \"'casual'\",\n",
       "  'RestaurantsDelivery': 'None'},\n",
       " 'categories': 'Gastropubs, Food, Beer Gardens, Restaurants, Bars, American (Traditional), Beer Bar, Nightlife, Breweries',\n",
       " 'hours': {'Monday': '11:0-23:0',\n",
       "  'Tuesday': '11:0-23:0',\n",
       "  'Wednesday': '11:0-23:0',\n",
       "  'Thursday': '11:0-23:0',\n",
       "  'Friday': '11:0-23:0',\n",
       "  'Saturday': '11:0-23:0',\n",
       "  'Sunday': '11:0-23:0'}}"
      ]
     },
     "execution_count": 4,
     "metadata": {},
     "output_type": "execute_result"
    }
   ],
   "source": [
    "# 查看商店信息的存储格式\n",
    "data_business[0]"
   ]
  },
  {
   "cell_type": "code",
   "execution_count": 5,
   "metadata": {
    "ExecuteTime": {
     "end_time": "2022-03-13T13:19:04.423943Z",
     "start_time": "2022-03-13T13:19:04.219891Z"
    }
   },
   "outputs": [
    {
     "name": "stderr",
     "output_type": "stream",
     "text": [
      "100%|███████████████████████████████████████████████████████████████████| 160585/160585 [00:00<00:00, 894524.83it/s]\n"
     ]
    }
   ],
   "source": [
    "# 找到 categories 中包括 str1 & str2 这两个类的商店\n",
    "str1 = 'Health & Medical'\n",
    "str2 = 'Doctors'\n",
    "\n",
    "business_hmd = []\n",
    "for i in tqdm(range(len(data_business))):\n",
    "    if data_business[i][\"categories\"] != None: # categories 不为空值\n",
    "        flag = data_business[i][\"categories\"].rfind(str1) # 找不到 str1 就返回 -1\n",
    "        if flag != -1:\n",
    "            flag = data_business[i][\"categories\"].rfind(str2) # 找不到 str2 就返回 -1\n",
    "            if flag != -1:\n",
    "                business_hmd.append(data_business[i])"
   ]
  },
  {
   "cell_type": "code",
   "execution_count": 6,
   "metadata": {
    "ExecuteTime": {
     "end_time": "2022-03-13T13:19:05.018284Z",
     "start_time": "2022-03-13T13:19:05.003325Z"
    }
   },
   "outputs": [
    {
     "data": {
      "text/plain": [
       "4700"
      ]
     },
     "execution_count": 6,
     "metadata": {},
     "output_type": "execute_result"
    }
   ],
   "source": [
    "len(business_hmd)"
   ]
  },
  {
   "cell_type": "code",
   "execution_count": 7,
   "metadata": {
    "ExecuteTime": {
     "end_time": "2022-03-13T13:19:05.795245Z",
     "start_time": "2022-03-13T13:19:05.570808Z"
    }
   },
   "outputs": [
    {
     "data": {
      "text/plain": [
       "49"
      ]
     },
     "execution_count": 7,
     "metadata": {},
     "output_type": "execute_result"
    }
   ],
   "source": [
    "del(data_business) # 清内存，删除列表\n",
    "gc.collect()"
   ]
  },
  {
   "cell_type": "code",
   "execution_count": 8,
   "metadata": {
    "ExecuteTime": {
     "end_time": "2022-03-13T13:19:06.028084Z",
     "start_time": "2022-03-13T13:19:06.023098Z"
    }
   },
   "outputs": [
    {
     "data": {
      "text/plain": [
       "{'business_id': 's8eTWEtW5WcnL2kUxrOVmw',\n",
       " 'name': 'Austin Regional Clinic: ARC Quarry Lake',\n",
       " 'address': '4515 Seton Center Pkwy, Ste 220',\n",
       " 'city': 'Austin',\n",
       " 'state': 'TX',\n",
       " 'postal_code': '78759',\n",
       " 'latitude': 30.4016572,\n",
       " 'longitude': -97.7429434,\n",
       " 'stars': 3.5,\n",
       " 'review_count': 48,\n",
       " 'is_open': 1,\n",
       " 'attributes': {'ByAppointmentOnly': 'True',\n",
       "  'AcceptsInsurance': 'True',\n",
       "  'BusinessAcceptsCreditCards': 'True'},\n",
       " 'categories': 'Diagnostic Services, Doctors, Internal Medicine, Pediatricians, Laboratory Testing, Health & Medical, Family Practice, Surgeons',\n",
       " 'hours': {'Monday': '8:0-17:0',\n",
       "  'Tuesday': '8:0-17:0',\n",
       "  'Wednesday': '8:0-17:0',\n",
       "  'Thursday': '8:0-17:0',\n",
       "  'Friday': '8:0-17:0'}}"
      ]
     },
     "execution_count": 8,
     "metadata": {},
     "output_type": "execute_result"
    }
   ],
   "source": [
    "business_hmd[0]"
   ]
  },
  {
   "cell_type": "markdown",
   "metadata": {},
   "source": [
    "## 抽取商店的id"
   ]
  },
  {
   "cell_type": "code",
   "execution_count": 9,
   "metadata": {
    "ExecuteTime": {
     "end_time": "2022-03-13T13:19:08.668350Z",
     "start_time": "2022-03-13T13:19:08.651369Z"
    }
   },
   "outputs": [
    {
     "name": "stderr",
     "output_type": "stream",
     "text": [
      "100%|██████████████████████████████████████████████████████████████████████| 4700/4700 [00:00<00:00, 1570650.05it/s]\n"
     ]
    },
    {
     "data": {
      "text/plain": [
       "4700"
      ]
     },
     "execution_count": 9,
     "metadata": {},
     "output_type": "execute_result"
    }
   ],
   "source": [
    "business_hmd_id = []\n",
    "for element in tqdm(business_hmd):\n",
    "    business_hmd_id.append(element[\"business_id\"])\n",
    "len(business_hmd_id)"
   ]
  },
  {
   "cell_type": "code",
   "execution_count": 10,
   "metadata": {
    "ExecuteTime": {
     "end_time": "2022-03-13T13:19:09.166172Z",
     "start_time": "2022-03-13T13:19:09.084417Z"
    }
   },
   "outputs": [
    {
     "data": {
      "text/plain": [
       "69"
      ]
     },
     "execution_count": 10,
     "metadata": {},
     "output_type": "execute_result"
    }
   ],
   "source": [
    "del(business_hmd) # 清内存\n",
    "gc.collect()"
   ]
  },
  {
   "cell_type": "markdown",
   "metadata": {},
   "source": [
    "# 读取评论"
   ]
  },
  {
   "cell_type": "code",
   "execution_count": 11,
   "metadata": {
    "ExecuteTime": {
     "end_time": "2022-03-13T13:21:03.555892Z",
     "start_time": "2022-03-13T13:19:24.051317Z"
    }
   },
   "outputs": [
    {
     "name": "stderr",
     "output_type": "stream",
     "text": [
      "8635403it [01:39, 86883.27it/s] \n"
     ]
    }
   ],
   "source": [
    "s = \"../../dataset/archive/yelp_academic_dataset_review.json\"\n",
    "\n",
    "data_review = []\n",
    "\n",
    "with open(s, 'r', encoding='UTF-8') as load_f:\n",
    "    for line in tqdm(load_f):\n",
    "        data_review.append(json.loads(line))"
   ]
  },
  {
   "cell_type": "code",
   "execution_count": 12,
   "metadata": {
    "ExecuteTime": {
     "end_time": "2022-03-13T13:21:03.754335Z",
     "start_time": "2022-03-13T13:21:03.684522Z"
    }
   },
   "outputs": [
    {
     "data": {
      "text/plain": [
       "8635403"
      ]
     },
     "execution_count": 12,
     "metadata": {},
     "output_type": "execute_result"
    }
   ],
   "source": [
    "len(data_review)"
   ]
  },
  {
   "cell_type": "code",
   "execution_count": 13,
   "metadata": {
    "ExecuteTime": {
     "end_time": "2022-03-13T13:21:03.800212Z",
     "start_time": "2022-03-13T13:21:03.784256Z"
    }
   },
   "outputs": [
    {
     "data": {
      "text/plain": [
       "{'review_id': 'lWC-xP3rd6obsecCYsGZRg',\n",
       " 'user_id': 'ak0TdVmGKo4pwqdJSTLwWw',\n",
       " 'business_id': 'buF9druCkbuXLX526sGELQ',\n",
       " 'stars': 4.0,\n",
       " 'useful': 3,\n",
       " 'funny': 1,\n",
       " 'cool': 1,\n",
       " 'text': \"Apparently Prides Osteria had a rough summer as evidenced by the almost empty dining room at 6:30 on a Friday night. However new blood in the kitchen seems to have revitalized the food from other customers recent visits. Waitstaff was warm but unobtrusive. By 8 pm or so when we left the bar was full and the dining room was much more lively than it had been. Perhaps Beverly residents prefer a later seating. \\n\\nAfter reading the mixed reviews of late I was a little tentative over our choice but luckily there was nothing to worry about in the food department. We started with the fried dough, burrata and prosciutto which were all lovely. Then although they don't offer half portions of pasta we each ordered the entree size and split them. We chose the tagliatelle bolognese and a four cheese filled pasta in a creamy sauce with bacon, asparagus and grana frita. Both were very good. We split a secondi which was the special Berkshire pork secreto, which was described as a pork skirt steak with garlic potato purée and romanesco broccoli (incorrectly described as a romanesco sauce). Some tables received bread before the meal but for some reason we did not. \\n\\nManagement also seems capable for when the tenants in the apartment above began playing basketball she intervened and also comped the tables a dessert. We ordered the apple dumpling with gelato and it was also quite tasty. Portions are not huge which I particularly like because I prefer to order courses. If you are someone who orders just a meal you may leave hungry depending on you appetite. Dining room was mostly younger crowd while the bar was definitely the over 40 set. Would recommend that the naysayers return to see the improvement although I personally don't know the former glory to be able to compare. Easy access to downtown Salem without the crowds on this month of October.\",\n",
       " 'date': '2014-10-11 03:34:02'}"
      ]
     },
     "execution_count": 13,
     "metadata": {},
     "output_type": "execute_result"
    }
   ],
   "source": [
    "data_review[0]"
   ]
  },
  {
   "cell_type": "code",
   "execution_count": 14,
   "metadata": {
    "ExecuteTime": {
     "end_time": "2022-03-13T13:49:09.502104Z",
     "start_time": "2022-03-13T13:21:03.803204Z"
    }
   },
   "outputs": [
    {
     "name": "stderr",
     "output_type": "stream",
     "text": [
      "100%|███████████████████████████████████████████████████████████████████| 8635403/8635403 [28:05<00:00, 5122.99it/s]\n"
     ]
    },
    {
     "data": {
      "text/plain": [
       "95108"
      ]
     },
     "execution_count": 14,
     "metadata": {},
     "output_type": "execute_result"
    }
   ],
   "source": [
    "reviews_hmd = []\n",
    "for i in tqdm(range(len(data_review))):\n",
    "    if data_review[i]['business_id'] in business_hmd_id:\n",
    "        reviews_hmd.append(data_review[i])\n",
    "\n",
    "len(reviews_hmd)"
   ]
  },
  {
   "cell_type": "markdown",
   "metadata": {
    "ExecuteTime": {
     "end_time": "2022-03-13T13:51:38.268939Z",
     "start_time": "2022-03-13T13:51:29.391723Z"
    }
   },
   "source": [
    "```python\n",
    "del(data_review) # 清内存\n",
    "gc.collect()\n",
    "```"
   ]
  },
  {
   "cell_type": "markdown",
   "metadata": {},
   "source": [
    "# 提取正负样本"
   ]
  },
  {
   "cell_type": "code",
   "execution_count": 21,
   "metadata": {
    "ExecuteTime": {
     "end_time": "2022-03-13T13:52:49.475955Z",
     "start_time": "2022-03-13T13:52:49.461483Z"
    }
   },
   "outputs": [],
   "source": [
    "pos = []\n",
    "neg = []\n",
    "mid = []"
   ]
  },
  {
   "cell_type": "markdown",
   "metadata": {},
   "source": [
    "`cleanReview` 正则匹配 `\\n` & `\\`，并删除掉"
   ]
  },
  {
   "cell_type": "code",
   "execution_count": 22,
   "metadata": {
    "ExecuteTime": {
     "end_time": "2022-03-13T13:52:50.794853Z",
     "start_time": "2022-03-13T13:52:50.779916Z"
    }
   },
   "outputs": [],
   "source": [
    "def cleanReview(subject):\n",
    "    newSubject = re.sub(r'\\n', '', subject)\n",
    "    newSubject = re.sub(r\"\\'\", \"'\", newSubject)\n",
    "    return newSubject"
   ]
  },
  {
   "cell_type": "code",
   "execution_count": 23,
   "metadata": {
    "ExecuteTime": {
     "end_time": "2022-03-13T13:52:52.319270Z",
     "start_time": "2022-03-13T13:52:51.587475Z"
    }
   },
   "outputs": [
    {
     "name": "stderr",
     "output_type": "stream",
     "text": [
      "\n",
      "  0%|                                                                                     | 0/95108 [00:00<?, ?it/s]\n",
      " 16%|██████████▉                                                          | 15059/95108 [00:00<00:00, 149498.75it/s]\n",
      " 33%|██████████████████████▋                                              | 31206/95108 [00:00<00:00, 152582.79it/s]\n",
      " 49%|█████████████████████████████████▉                                   | 46721/95108 [00:00<00:00, 153158.78it/s]\n",
      " 66%|█████████████████████████████████████████████▎                       | 62451/95108 [00:00<00:00, 154303.59it/s]\n",
      " 82%|████████████████████████████████████████████████████████▊            | 78278/95108 [00:00<00:00, 155071.57it/s]\n",
      "100%|█████████████████████████████████████████████████████████████████████| 95108/95108 [00:00<00:00, 134014.06it/s]\n",
      " 89%|██████████████████████████████████████████████████████████████▍       | 84804/95108 [00:40<00:00, 13177.95it/s]"
     ]
    }
   ],
   "source": [
    "for element in tqdm(reviews_hmd):\n",
    "    if element['stars'] >= 4.0:\n",
    "        pos.append(cleanReview(element['text']))\n",
    "    elif element['stars'] <=2.0:\n",
    "        neg.append(cleanReview(element['text']))\n",
    "    else:\n",
    "        mid.append(cleanReview(element['text']))"
   ]
  },
  {
   "cell_type": "code",
   "execution_count": 24,
   "metadata": {
    "ExecuteTime": {
     "end_time": "2022-03-13T13:53:08.297173Z",
     "start_time": "2022-03-13T13:53:08.270218Z"
    }
   },
   "outputs": [
    {
     "name": "stdout",
     "output_type": "stream",
     "text": [
      "pos:  58782 \n",
      " neg:  33059 \n",
      " mid:  3267\n"
     ]
    }
   ],
   "source": [
    "print('pos: ', len(pos), '\\n', 'neg: ', len(neg), '\\n', 'mid: ', len(mid))"
   ]
  },
  {
   "cell_type": "code",
   "execution_count": 25,
   "metadata": {
    "ExecuteTime": {
     "end_time": "2022-03-13T13:53:11.152214Z",
     "start_time": "2022-03-13T13:53:11.132293Z"
    }
   },
   "outputs": [
    {
     "data": {
      "text/plain": [
       "91841"
      ]
     },
     "execution_count": 25,
     "metadata": {},
     "output_type": "execute_result"
    }
   ],
   "source": [
    "len(pos) + len(neg) # 查看这两个分类一共有多少条"
   ]
  },
  {
   "cell_type": "code",
   "execution_count": 26,
   "metadata": {
    "ExecuteTime": {
     "end_time": "2022-03-13T13:53:12.164478Z",
     "start_time": "2022-03-13T13:53:11.780468Z"
    }
   },
   "outputs": [],
   "source": [
    "df_pos = pd.DataFrame(columns=['']) # 创建dataframe， 定义一个没有名字的空列\n",
    "df_neg = pd.DataFrame(columns=[''])\n",
    "df_mid = pd.DataFrame(columns=[''])\n",
    "\n",
    "df_pos[''] = pos # 给空列赋值\n",
    "df_neg[''] = neg\n",
    "df_mid[''] = mid"
   ]
  },
  {
   "cell_type": "code",
   "execution_count": 27,
   "metadata": {
    "ExecuteTime": {
     "end_time": "2022-03-13T13:53:12.850125Z",
     "start_time": "2022-03-13T13:53:12.756573Z"
    }
   },
   "outputs": [
    {
     "data": {
      "text/html": [
       "<div>\n",
       "<style scoped>\n",
       "    .dataframe tbody tr th:only-of-type {\n",
       "        vertical-align: middle;\n",
       "    }\n",
       "\n",
       "    .dataframe tbody tr th {\n",
       "        vertical-align: top;\n",
       "    }\n",
       "\n",
       "    .dataframe thead th {\n",
       "        text-align: right;\n",
       "    }\n",
       "</style>\n",
       "<table border=\"1\" class=\"dataframe\">\n",
       "  <thead>\n",
       "    <tr style=\"text-align: right;\">\n",
       "      <th></th>\n",
       "      <th></th>\n",
       "    </tr>\n",
       "  </thead>\n",
       "  <tbody>\n",
       "    <tr>\n",
       "      <td>0</td>\n",
       "      <td>I just had my lasik done last week and I am re...</td>\n",
       "    </tr>\n",
       "    <tr>\n",
       "      <td>1</td>\n",
       "      <td>I highly recommend TLC Laser for anyone lookin...</td>\n",
       "    </tr>\n",
       "    <tr>\n",
       "      <td>2</td>\n",
       "      <td>This was one of the few physical therapy place...</td>\n",
       "    </tr>\n",
       "    <tr>\n",
       "      <td>3</td>\n",
       "      <td>This is my second time getting a breast augmen...</td>\n",
       "    </tr>\n",
       "    <tr>\n",
       "      <td>4</td>\n",
       "      <td>I've been going off again and on again to Pro ...</td>\n",
       "    </tr>\n",
       "  </tbody>\n",
       "</table>\n",
       "</div>"
      ],
      "text/plain": [
       "                                                    \n",
       "0  I just had my lasik done last week and I am re...\n",
       "1  I highly recommend TLC Laser for anyone lookin...\n",
       "2  This was one of the few physical therapy place...\n",
       "3  This is my second time getting a breast augmen...\n",
       "4  I've been going off again and on again to Pro ..."
      ]
     },
     "execution_count": 27,
     "metadata": {},
     "output_type": "execute_result"
    }
   ],
   "source": [
    "df_pos[:5]"
   ]
  },
  {
   "cell_type": "code",
   "execution_count": 28,
   "metadata": {
    "ExecuteTime": {
     "end_time": "2022-03-13T13:53:13.422408Z",
     "start_time": "2022-03-13T13:53:13.412436Z"
    }
   },
   "outputs": [
    {
     "data": {
      "text/html": [
       "<div>\n",
       "<style scoped>\n",
       "    .dataframe tbody tr th:only-of-type {\n",
       "        vertical-align: middle;\n",
       "    }\n",
       "\n",
       "    .dataframe tbody tr th {\n",
       "        vertical-align: top;\n",
       "    }\n",
       "\n",
       "    .dataframe thead th {\n",
       "        text-align: right;\n",
       "    }\n",
       "</style>\n",
       "<table border=\"1\" class=\"dataframe\">\n",
       "  <thead>\n",
       "    <tr style=\"text-align: right;\">\n",
       "      <th></th>\n",
       "      <th></th>\n",
       "    </tr>\n",
       "  </thead>\n",
       "  <tbody>\n",
       "    <tr>\n",
       "      <td>0</td>\n",
       "      <td>I've been to this location twice and couldn't ...</td>\n",
       "    </tr>\n",
       "    <tr>\n",
       "      <td>1</td>\n",
       "      <td>Used to be great. But has gone downhill since ...</td>\n",
       "    </tr>\n",
       "    <tr>\n",
       "      <td>2</td>\n",
       "      <td>An open letter to TCV:Recently I missed an app...</td>\n",
       "    </tr>\n",
       "    <tr>\n",
       "      <td>3</td>\n",
       "      <td>I was diagnosed with epilepsy over 10 years ag...</td>\n",
       "    </tr>\n",
       "    <tr>\n",
       "      <td>4</td>\n",
       "      <td>Is this business, still in business? I've call...</td>\n",
       "    </tr>\n",
       "  </tbody>\n",
       "</table>\n",
       "</div>"
      ],
      "text/plain": [
       "                                                    \n",
       "0  I've been to this location twice and couldn't ...\n",
       "1  Used to be great. But has gone downhill since ...\n",
       "2  An open letter to TCV:Recently I missed an app...\n",
       "3  I was diagnosed with epilepsy over 10 years ag...\n",
       "4  Is this business, still in business? I've call..."
      ]
     },
     "execution_count": 28,
     "metadata": {},
     "output_type": "execute_result"
    }
   ],
   "source": [
    "df_neg[:5]"
   ]
  },
  {
   "cell_type": "code",
   "execution_count": 29,
   "metadata": {
    "ExecuteTime": {
     "end_time": "2022-03-13T13:53:13.810349Z",
     "start_time": "2022-03-13T13:53:13.788394Z"
    }
   },
   "outputs": [
    {
     "data": {
      "text/html": [
       "<div>\n",
       "<style scoped>\n",
       "    .dataframe tbody tr th:only-of-type {\n",
       "        vertical-align: middle;\n",
       "    }\n",
       "\n",
       "    .dataframe tbody tr th {\n",
       "        vertical-align: top;\n",
       "    }\n",
       "\n",
       "    .dataframe thead th {\n",
       "        text-align: right;\n",
       "    }\n",
       "</style>\n",
       "<table border=\"1\" class=\"dataframe\">\n",
       "  <thead>\n",
       "    <tr style=\"text-align: right;\">\n",
       "      <th></th>\n",
       "      <th></th>\n",
       "    </tr>\n",
       "  </thead>\n",
       "  <tbody>\n",
       "    <tr>\n",
       "      <td>0</td>\n",
       "      <td>On 11/28/17 I saw Dr. Gay in Pulmonology who r...</td>\n",
       "    </tr>\n",
       "    <tr>\n",
       "      <td>1</td>\n",
       "      <td>I love the convenience of ZoomCare. I've had s...</td>\n",
       "    </tr>\n",
       "    <tr>\n",
       "      <td>2</td>\n",
       "      <td>I went here for a prenatal massage and unfortu...</td>\n",
       "    </tr>\n",
       "    <tr>\n",
       "      <td>3</td>\n",
       "      <td>My young son and I both receive our medical ca...</td>\n",
       "    </tr>\n",
       "    <tr>\n",
       "      <td>4</td>\n",
       "      <td>I've been twice and I had two very different e...</td>\n",
       "    </tr>\n",
       "  </tbody>\n",
       "</table>\n",
       "</div>"
      ],
      "text/plain": [
       "                                                    \n",
       "0  On 11/28/17 I saw Dr. Gay in Pulmonology who r...\n",
       "1  I love the convenience of ZoomCare. I've had s...\n",
       "2  I went here for a prenatal massage and unfortu...\n",
       "3  My young son and I both receive our medical ca...\n",
       "4  I've been twice and I had two very different e..."
      ]
     },
     "execution_count": 29,
     "metadata": {},
     "output_type": "execute_result"
    }
   ],
   "source": [
    "df_mid[:5]"
   ]
  },
  {
   "cell_type": "markdown",
   "metadata": {},
   "source": [
    "## 保存数据"
   ]
  },
  {
   "cell_type": "markdown",
   "metadata": {},
   "source": [
    "\\n 是有意义的，换行 \\\\n才能到正确路径，记得先在上级目录创建`大数据概论`文件夹"
   ]
  },
  {
   "cell_type": "code",
   "execution_count": 34,
   "metadata": {
    "ExecuteTime": {
     "end_time": "2022-03-13T13:56:21.139151Z",
     "start_time": "2022-03-13T13:56:17.828820Z"
    }
   },
   "outputs": [],
   "source": [
    "# 保存数据\n",
    "df_pos.to_excel('.\\大数据概论\\pos.xls', index=False, header=0) # 不保存索引和列名\n",
    "df_neg.to_excel('.\\大数据概论\\\\neg.xls', index=False, header=0)\n",
    "df_mid.to_excel('.\\大数据概论\\\\mid.xls', index=False, header=0)"
   ]
  },
  {
   "cell_type": "markdown",
   "metadata": {},
   "source": [
    "我们将`正类`和`负类`取到一样的值，这样有助于数据的平衡     \n",
    "\n",
    "> 打个比方，机械大多数都是男生     \n",
    ">> 如果要预测机械学生的性别，模型只要将所有输入都预测为男生准确率就已经非常高了   \n",
    ">>> 数据平衡还是非常重要的\n",
    "\n",
    "而且我们的正类和负类数量相同，这样会使得**acc**表达的意义是很准确的，故，最后评价模型的时候**不再使用精准率、召回率和F1分数这些评价指标**，主要是***懒***"
   ]
  },
  {
   "cell_type": "code",
   "execution_count": 35,
   "metadata": {
    "ExecuteTime": {
     "end_time": "2022-03-13T13:56:24.576808Z",
     "start_time": "2022-03-13T13:56:22.627858Z"
    }
   },
   "outputs": [],
   "source": [
    "df_pos_30000 = df_pos[:30000]\n",
    "df_neg_30000 = df_neg[:30000]\n",
    "df_pos_30000.to_excel('.\\大数据概论\\pos_30000.xls', index=False, header=0)\n",
    "df_neg_30000.to_excel('.\\大数据概论\\\\neg_30000.xls', index=False, header=0)"
   ]
  }
 ],
 "metadata": {
  "hide_input": false,
  "kernelspec": {
   "display_name": "Python 3",
   "language": "python",
   "name": "python3"
  },
  "language_info": {
   "codemirror_mode": {
    "name": "ipython",
    "version": 3
   },
   "file_extension": ".py",
   "mimetype": "text/x-python",
   "name": "python",
   "nbconvert_exporter": "python",
   "pygments_lexer": "ipython3",
   "version": "3.7.4"
  },
  "toc": {
   "base_numbering": 1,
   "nav_menu": {},
   "number_sections": true,
   "sideBar": true,
   "skip_h1_title": false,
   "title_cell": "Table of Contents",
   "title_sidebar": "Contents",
   "toc_cell": true,
   "toc_position": {
    "height": "calc(100% - 180px)",
    "left": "10px",
    "top": "150px",
    "width": "165px"
   },
   "toc_section_display": true,
   "toc_window_display": true
  }
 },
 "nbformat": 4,
 "nbformat_minor": 2
}
